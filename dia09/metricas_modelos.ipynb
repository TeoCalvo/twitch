{
 "cells": [
  {
   "cell_type": "code",
   "execution_count": 1,
   "metadata": {},
   "outputs": [],
   "source": [
    "from sklearn import tree # módulo de arvore de decisao\n",
    "from sklearn import preprocessing # Modulo de preprocessamento\n",
    "from sklearn import ensemble\n",
    "from sklearn import metrics\n",
    "from sklearn import model_selection\n",
    "import pandas as pd # Pandas manipulação de dados\n",
    "import os # acesso ao sistema operacional\n",
    "import graphviz\n",
    "import numpy as np"
   ]
  },
  {
   "cell_type": "code",
   "execution_count": 3,
   "metadata": {},
   "outputs": [],
   "source": [
    "df = pd.read_csv( '../dia05/dados_candidatos.csv', sep=';', decimal=',' )\n",
    "\n",
    "target = 'descricao_grau_instrucao'\n",
    "features = [ 'descricao_cargo', 'descricao_cor_raca', 'descricao_estado_civil', 'descricao_genero',\n",
    "                'sigla_uf_nascimento', 'nome_partido', 'patrimonio'  ]\n",
    "\n",
    "group_names = { 'LE E ESCREVE': 'SEM ESCOLARIDADE',\n",
    "                'ENSINO FUNDAMENTAL INCOMPLETO': 'SEM ESCOLARIDADE',\n",
    "                'ENSINO MEDIO INCOMPLETO':'ENSINO FUNDAMENTAL COMPLETO',\n",
    "                'SUPERIOR INCOMPLETO': 'ENSINO MEDIO COMPLETO' }\n",
    "\n",
    "df[target] = df[target].apply( lambda x: group_names[x] if x in group_names else x )\n",
    "\n",
    "# Agrupa suplentes\n",
    "df['descricao_cargo'] = df['descricao_cargo'].replace( ['1o SUPLENTE SENADOR', '2o SUPLENTE SENADOR'], 'SUPLENTE SENADOR' )"
   ]
  },
  {
   "cell_type": "code",
   "execution_count": 4,
   "metadata": {},
   "outputs": [],
   "source": [
    "cat_features = df[features].dtypes[df[features].dtypes == 'object'].index\n",
    "onehot = preprocessing.OneHotEncoder(sparse=False)\n",
    "onehot.fit( df[cat_features ] )\n",
    "X = pd.DataFrame( onehot.transform( df[cat_features] ), columns = onehot.get_feature_names( cat_features ) )\n",
    "\n",
    "num_features = df[features].dtypes[df[features].dtypes != 'object'].index\n",
    "X[num_features] = df[num_features].copy()\n",
    "X['declara_patrimonio'] = X['patrimonio'] > 0"
   ]
  },
  {
   "cell_type": "markdown",
   "metadata": {},
   "source": [
    "# Definindo base de treino e base de teste"
   ]
  },
  {
   "cell_type": "code",
   "execution_count": 6,
   "metadata": {},
   "outputs": [],
   "source": [
    "X_train, X_test, y_train, y_test = model_selection.train_test_split( X, df[target], test_size=0.2)"
   ]
  },
  {
   "cell_type": "code",
   "execution_count": 16,
   "metadata": {},
   "outputs": [
    {
     "data": {
      "text/plain": [
       "21770     True\n",
       "28464    False\n",
       "16206    False\n",
       "2229      True\n",
       "25443    False\n",
       "         ...  \n",
       "18428    False\n",
       "24580    False\n",
       "6314      True\n",
       "21201    False\n",
       "4508     False\n",
       "Name: descricao_grau_instrucao, Length: 23268, dtype: bool"
      ]
     },
     "execution_count": 16,
     "metadata": {},
     "output_type": "execute_result"
    }
   ],
   "source": []
  },
  {
   "cell_type": "code",
   "execution_count": 17,
   "metadata": {},
   "outputs": [
    {
     "data": {
      "text/plain": [
       "RandomForestClassifier(bootstrap=True, class_weight=None, criterion='gini',\n",
       "                       max_depth=20, max_features='auto', max_leaf_nodes=None,\n",
       "                       min_impurity_decrease=0.0, min_impurity_split=None,\n",
       "                       min_samples_leaf=1, min_samples_split=2,\n",
       "                       min_weight_fraction_leaf=0.0, n_estimators=500, n_jobs=3,\n",
       "                       oob_score=False, random_state=None, verbose=0,\n",
       "                       warm_start=False)"
      ]
     },
     "execution_count": 17,
     "metadata": {},
     "output_type": "execute_result"
    }
   ],
   "source": [
    "y_train = y_train == 'SUPERIOR COMPLETO'\n",
    "y_test = y_test == 'SUPERIOR COMPLETO'\n",
    "\n",
    "clf = tree.DecisionTreeClassifier()\n",
    "clf.fit( X_train, y_train ) \n",
    "\n",
    "clf_rf = ensemble.RandomForestClassifier( n_estimators=500, max_depth=20, n_jobs=3 )\n",
    "clf_rf.fit( X_train, y_train )"
   ]
  },
  {
   "cell_type": "markdown",
   "metadata": {},
   "source": [
    "## Definido acurácia na mão"
   ]
  },
  {
   "cell_type": "code",
   "execution_count": 59,
   "metadata": {},
   "outputs": [
    {
     "name": "stdout",
     "output_type": "stream",
     "text": [
      "Acertamos 18920 individuos.\n",
      "Dentre 23268 individuos.\n",
      "Logo, nossa acurácia é igual a: 18920 / 23268 = 0.8131339178270586\n",
      "Acurácia calculada pelo sklearn: 0.8131339178270586\n"
     ]
    }
   ],
   "source": [
    "result = pd.DataFrame( { 'predict': clf_rf.predict( X_train ) } )\n",
    "result['y_true'] = y_train.reset_index(drop=True)\n",
    "\n",
    "qtde_acertos = (result['predict'] == result['y_true']).sum()\n",
    "qtde_obs = result.shape[0]\n",
    "\n",
    "print(\"Acertamos {} individuos.\".format( qtde_acertos ))\n",
    "print(\"Dentre {} individuos.\".format( qtde_obs ))\n",
    "\n",
    "print(\"Logo, nossa acurácia é igual a: {} / {} = {}\".format( qtde_acertos, qtde_obs, qtde_acertos / qtde_obs ) )\n",
    "\n",
    "from sklearn import metrics\n",
    "acc_sklearn = metrics.accuracy_score( result['y_true'], result['predict']  )\n",
    "\n",
    "print(\"Acurácia calculada pelo sklearn:\", acc_sklearn)"
   ]
  },
  {
   "cell_type": "code",
   "execution_count": 60,
   "metadata": {},
   "outputs": [
    {
     "data": {
      "text/html": [
       "<div>\n",
       "<style scoped>\n",
       "    .dataframe tbody tr th:only-of-type {\n",
       "        vertical-align: middle;\n",
       "    }\n",
       "\n",
       "    .dataframe tbody tr th {\n",
       "        vertical-align: top;\n",
       "    }\n",
       "\n",
       "    .dataframe thead th {\n",
       "        text-align: right;\n",
       "    }\n",
       "</style>\n",
       "<table border=\"1\" class=\"dataframe\">\n",
       "  <thead>\n",
       "    <tr style=\"text-align: right;\">\n",
       "      <th>predict</th>\n",
       "      <th>False</th>\n",
       "      <th>True</th>\n",
       "    </tr>\n",
       "    <tr>\n",
       "      <th>y_true</th>\n",
       "      <th></th>\n",
       "      <th></th>\n",
       "    </tr>\n",
       "  </thead>\n",
       "  <tbody>\n",
       "    <tr>\n",
       "      <td>False</td>\n",
       "      <td>10181</td>\n",
       "      <td>1771</td>\n",
       "    </tr>\n",
       "    <tr>\n",
       "      <td>True</td>\n",
       "      <td>2577</td>\n",
       "      <td>8739</td>\n",
       "    </tr>\n",
       "  </tbody>\n",
       "</table>\n",
       "</div>"
      ],
      "text/plain": [
       "predict  False  True \n",
       "y_true               \n",
       "False    10181   1771\n",
       "True      2577   8739"
      ]
     },
     "execution_count": 60,
     "metadata": {},
     "output_type": "execute_result"
    }
   ],
   "source": [
    "pd.crosstab( result['y_true'], result['predict'] )"
   ]
  },
  {
   "cell_type": "code",
   "execution_count": 61,
   "metadata": {},
   "outputs": [
    {
     "name": "stdout",
     "output_type": "stream",
     "text": [
      "Precisão Ensino superior: 0.9891387195121951\n",
      "Precisão NAO Ensino superior: 0.9268712809270279\n"
     ]
    }
   ],
   "source": [
    "precisao_true = 10382 / (114 + 10382)\n",
    "print(\"Precisão Ensino superior:\",precisao_true)\n",
    "\n",
    "presicao_false = 11838 / ( 11838 + 934 )\n",
    "print(\"Precisão NAO Ensino superior:\",presicao_false)"
   ]
  },
  {
   "cell_type": "code",
   "execution_count": 62,
   "metadata": {},
   "outputs": [
    {
     "name": "stdout",
     "output_type": "stream",
     "text": [
      "Recall Superior: 0.9174620007069636\n",
      "Recall SEM Superior: 0.9904618473895582\n"
     ]
    }
   ],
   "source": [
    "recall_superior_completo = 10382 / (934 + 10382)\n",
    "print(\"Recall Superior:\", recall_superior_completo)\n",
    "\n",
    "recall_sem_superior = 11838 / (11838 + 114)\n",
    "print(\"Recall SEM Superior:\", recall_sem_superior)"
   ]
  },
  {
   "cell_type": "code",
   "execution_count": 63,
   "metadata": {},
   "outputs": [
    {
     "name": "stdout",
     "output_type": "stream",
     "text": [
      "Métricas do SKLEARN\n",
      "Precision: 0.8314938154138916\n",
      "Recall: 0.7722693531283139\n"
     ]
    }
   ],
   "source": [
    "print(\"Métricas do SKLEARN\")\n",
    "print(\"Precision:\", metrics.precision_score( result['y_true'], result['predict'] ) )\n",
    "print(\"Recall:\", metrics.recall_score( result['y_true'], result['predict'] ) )"
   ]
  },
  {
   "cell_type": "markdown",
   "metadata": {},
   "source": [
    "## Curva ROC"
   ]
  },
  {
   "cell_type": "code",
   "execution_count": 65,
   "metadata": {},
   "outputs": [
    {
     "data": {
      "text/html": [
       "<div>\n",
       "<style scoped>\n",
       "    .dataframe tbody tr th:only-of-type {\n",
       "        vertical-align: middle;\n",
       "    }\n",
       "\n",
       "    .dataframe tbody tr th {\n",
       "        vertical-align: top;\n",
       "    }\n",
       "\n",
       "    .dataframe thead th {\n",
       "        text-align: right;\n",
       "    }\n",
       "</style>\n",
       "<table border=\"1\" class=\"dataframe\">\n",
       "  <thead>\n",
       "    <tr style=\"text-align: right;\">\n",
       "      <th>predict</th>\n",
       "      <th>False</th>\n",
       "      <th>True</th>\n",
       "    </tr>\n",
       "    <tr>\n",
       "      <th>y_true</th>\n",
       "      <th></th>\n",
       "      <th></th>\n",
       "    </tr>\n",
       "  </thead>\n",
       "  <tbody>\n",
       "    <tr>\n",
       "      <td>False</td>\n",
       "      <td>10181</td>\n",
       "      <td>1771</td>\n",
       "    </tr>\n",
       "    <tr>\n",
       "      <td>True</td>\n",
       "      <td>2577</td>\n",
       "      <td>8739</td>\n",
       "    </tr>\n",
       "  </tbody>\n",
       "</table>\n",
       "</div>"
      ],
      "text/plain": [
       "predict  False  True \n",
       "y_true               \n",
       "False    10181   1771\n",
       "True      2577   8739"
      ]
     },
     "execution_count": 65,
     "metadata": {},
     "output_type": "execute_result"
    }
   ],
   "source": [
    "pd.crosstab( result['y_true'], result['predict'] )"
   ]
  },
  {
   "cell_type": "code",
   "execution_count": 64,
   "metadata": {},
   "outputs": [
    {
     "name": "stdout",
     "output_type": "stream",
     "text": [
      "Sensibilidade: 0.9174620007069636\n",
      "especificidade: 0.9904618473895582\n"
     ]
    }
   ],
   "source": [
    "sensibilidade = 10382 / (934 + 10382)\n",
    "especificidade  = 11838 / (11838+114)\n",
    "\n",
    "print(\"Sensibilidade:\", sensibilidade)\n",
    "print(\"especificidade:\", especificidade)"
   ]
  },
  {
   "cell_type": "code",
   "execution_count": 87,
   "metadata": {},
   "outputs": [],
   "source": [
    "# Prevendo a probabilidade de ser ensino superior completo\n",
    "proba = clf.predict_proba( X_train )\n",
    "\n",
    "# Prevendo se é ou não ensino superior completo\n",
    "predict = clf.predict( X_train )"
   ]
  },
  {
   "cell_type": "code",
   "execution_count": 84,
   "metadata": {},
   "outputs": [
    {
     "name": "stdout",
     "output_type": "stream",
     "text": [
      "              precision    recall  f1-score   support\n",
      "\n",
      "       False       0.93      0.99      0.96     11952\n",
      "        True       0.99      0.92      0.95     11316\n",
      "\n",
      "    accuracy                           0.95     23268\n",
      "   macro avg       0.96      0.95      0.95     23268\n",
      "weighted avg       0.96      0.95      0.95     23268\n",
      "\n"
     ]
    }
   ],
   "source": [
    "print( metrics.classification_report( y_train, predict ) )"
   ]
  },
  {
   "cell_type": "code",
   "execution_count": 91,
   "metadata": {},
   "outputs": [
    {
     "name": "stdout",
     "output_type": "stream",
     "text": [
      "              precision    recall  f1-score   support\n",
      "\n",
      "       False       0.91      1.00      0.95     11952\n",
      "        True       1.00      0.90      0.95     11316\n",
      "\n",
      "    accuracy                           0.95     23268\n",
      "   macro avg       0.96      0.95      0.95     23268\n",
      "weighted avg       0.95      0.95      0.95     23268\n",
      "\n"
     ]
    }
   ],
   "source": [
    "print( metrics.classification_report( y_train, proba[:,1] > 0.99 ) )"
   ]
  },
  {
   "cell_type": "code",
   "execution_count": 94,
   "metadata": {},
   "outputs": [],
   "source": [
    "roc = metrics.roc_curve(y_train, proba[:,1] )"
   ]
  },
  {
   "cell_type": "code",
   "execution_count": 100,
   "metadata": {},
   "outputs": [
    {
     "ename": "AttributeError",
     "evalue": "'list' object has no attribute 'xlabel'",
     "output_type": "error",
     "traceback": [
      "\u001b[0;31m---------------------------------------------------------------------------\u001b[0m",
      "\u001b[0;31mAttributeError\u001b[0m                            Traceback (most recent call last)",
      "\u001b[0;32m<ipython-input-100-81b1b133d27e>\u001b[0m in \u001b[0;36m<module>\u001b[0;34m\u001b[0m\n\u001b[1;32m      1\u001b[0m \u001b[0mplot\u001b[0m \u001b[0;34m=\u001b[0m \u001b[0mplt\u001b[0m\u001b[0;34m.\u001b[0m\u001b[0mplot\u001b[0m\u001b[0;34m(\u001b[0m  \u001b[0mroc\u001b[0m\u001b[0;34m[\u001b[0m\u001b[0;36m0\u001b[0m\u001b[0;34m]\u001b[0m\u001b[0;34m,\u001b[0m \u001b[0mroc\u001b[0m\u001b[0;34m[\u001b[0m\u001b[0;36m1\u001b[0m\u001b[0;34m]\u001b[0m\u001b[0;34m)\u001b[0m\u001b[0;34m\u001b[0m\u001b[0;34m\u001b[0m\u001b[0m\n\u001b[0;32m----> 2\u001b[0;31m \u001b[0mplot\u001b[0m\u001b[0;34m.\u001b[0m\u001b[0mxlabel\u001b[0m \u001b[0;34m=\u001b[0m \u001b[0;34m'1 - especificidade'\u001b[0m\u001b[0;34m\u001b[0m\u001b[0;34m\u001b[0m\u001b[0m\n\u001b[0m\u001b[1;32m      3\u001b[0m \u001b[0mplt\u001b[0m\u001b[0;34m.\u001b[0m\u001b[0mshow\u001b[0m\u001b[0;34m(\u001b[0m\u001b[0;34m)\u001b[0m\u001b[0;34m\u001b[0m\u001b[0;34m\u001b[0m\u001b[0m\n",
      "\u001b[0;31mAttributeError\u001b[0m: 'list' object has no attribute 'xlabel'"
     ]
    },
    {
     "data": {
      "image/png": "[encoded data removed]",
      "text/plain": [
       "<Figure size 432x288 with 1 Axes>"
      ]
     },
     "metadata": {
      "needs_background": "light"
     },
     "output_type": "display_data"
    }
   ],
   "source": [
    "plot = plt.plot(  roc[0], roc[1])\n",
    "plot.xlabel = '1 - especificidade'\n",
    "plt.show()"
   ]
  }
 ],
 "metadata": {
  "file_extension": ".py",
  "kernelspec": {
   "display_name": "Python 3",
   "language": "python",
   "name": "python3"
  },
  "language_info": {
   "codemirror_mode": {
    "name": "ipython",
    "version": 3
   },
   "file_extension": ".py",
   "mimetype": "text/x-python",
   "name": "python",
   "nbconvert_exporter": "python",
   "pygments_lexer": "ipython3",
   "version": "3.7.3"
  },
  "mimetype": "text/x-python",
  "name": "python",
  "npconvert_exporter": "python",
  "pygments_lexer": "ipython3",
  "version": 3
 },
 "nbformat": 4,
 "nbformat_minor": 2
}
