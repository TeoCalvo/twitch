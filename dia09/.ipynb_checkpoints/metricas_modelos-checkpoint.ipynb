{
 "cells": [
  {
   "cell_type": "code",
   "execution_count": 1,
   "metadata": {},
   "outputs": [],
   "source": [
    "from sklearn import tree # módulo de arvore de decisao\n",
    "from sklearn import preprocessing # Modulo de preprocessamento\n",
    "from sklearn import ensemble\n",
    "from sklearn import metrics\n",
    "from sklearn import model_selection\n",
    "import pandas as pd # Pandas manipulação de dados\n",
    "import os # acesso ao sistema operacional\n",
    "import graphviz\n",
    "import numpy as np"
   ]
  },
  {
   "cell_type": "code",
   "execution_count": 3,
   "metadata": {},
   "outputs": [],
   "source": [
    "df = pd.read_csv( '../dia05/dados_candidatos.csv', sep=';', decimal=',' )\n",
    "\n",
    "target = 'descricao_grau_instrucao'\n",
    "features = [ 'descricao_cargo', 'descricao_cor_raca', 'descricao_estado_civil', 'descricao_genero',\n",
    "                'sigla_uf_nascimento', 'nome_partido', 'patrimonio'  ]\n",
    "\n",
    "group_names = { 'LE E ESCREVE': 'SEM ESCOLARIDADE',\n",
    "                'ENSINO FUNDAMENTAL INCOMPLETO': 'SEM ESCOLARIDADE',\n",
    "                'ENSINO MEDIO INCOMPLETO':'ENSINO FUNDAMENTAL COMPLETO',\n",
    "                'SUPERIOR INCOMPLETO': 'ENSINO MEDIO COMPLETO' }\n",
    "\n",
    "df[target] = df[target].apply( lambda x: group_names[x] if x in group_names else x )\n",
    "\n",
    "# Agrupa suplentes\n",
    "df['descricao_cargo'] = df['descricao_cargo'].replace( ['1o SUPLENTE SENADOR', '2o SUPLENTE SENADOR'], 'SUPLENTE SENADOR' )"
   ]
  },
  {
   "cell_type": "code",
   "execution_count": 4,
   "metadata": {},
   "outputs": [],
   "source": [
    "cat_features = df[features].dtypes[df[features].dtypes == 'object'].index\n",
    "onehot = preprocessing.OneHotEncoder(sparse=False)\n",
    "onehot.fit( df[cat_features ] )\n",
    "X = pd.DataFrame( onehot.transform( df[cat_features] ), columns = onehot.get_feature_names( cat_features ) )\n",
    "\n",
    "num_features = df[features].dtypes[df[features].dtypes != 'object'].index\n",
    "X[num_features] = df[num_features].copy()\n",
    "X['declara_patrimonio'] = X['patrimonio'] > 0"
   ]
  },
  {
   "cell_type": "markdown",
   "metadata": {},
   "source": [
    "# Definindo base de treino e base de teste"
   ]
  },
  {
   "cell_type": "code",
   "execution_count": 6,
   "metadata": {},
   "outputs": [],
   "source": [
    "X_train, X_test, y_train, y_test = model_selection.train_test_split( X, df[target], test_size=0.2)"
   ]
  },
  {
   "cell_type": "code",
   "execution_count": 7,
   "metadata": {},
   "outputs": [
    {
     "data": {
      "text/plain": [
       "RandomForestClassifier(bootstrap=True, class_weight=None, criterion='gini',\n",
       "                       max_depth=20, max_features='auto', max_leaf_nodes=None,\n",
       "                       min_impurity_decrease=0.0, min_impurity_split=None,\n",
       "                       min_samples_leaf=1, min_samples_split=2,\n",
       "                       min_weight_fraction_leaf=0.0, n_estimators=500, n_jobs=3,\n",
       "                       oob_score=False, random_state=None, verbose=0,\n",
       "                       warm_start=False)"
      ]
     },
     "execution_count": 7,
     "metadata": {},
     "output_type": "execute_result"
    }
   ],
   "source": [
    "clf = tree.DecisionTreeClassifier()\n",
    "clf.fit( X_train, y_train ) \n",
    "\n",
    "clf_rf = ensemble.RandomForestClassifier( n_estimators=500, max_depth=20, n_jobs=3 )\n",
    "clf_rf.fit( X_train, y_train )"
   ]
  },
  {
   "cell_type": "markdown",
   "metadata": {},
   "source": [
    "## Definido acurácia na mão"
   ]
  },
  {
   "cell_type": "code",
   "execution_count": 14,
   "metadata": {},
   "outputs": [
    {
     "name": "stdout",
     "output_type": "stream",
     "text": [
      "Acertamos 21581 individuos.\n",
      "Dentre 23268 individuos.\n",
      "Logo, nossa acurácia é igual a: 21581 / 23268 = 0.927496991576414\n",
      "Acurácia calculada pelo sklearn: 0.927496991576414\n"
     ]
    }
   ],
   "source": [
    "result = pd.DataFrame( { 'predict': clf.predict( X_train ) } )\n",
    "result['y_true'] = y_train.reset_index(drop=True)\n",
    "\n",
    "qtde_acertos = (result['predict'] == result['y_true']).sum()\n",
    "qtde_obs = result.shape[0]\n",
    "\n",
    "print(\"Acertamos {} individuos.\".format( qtde_acertos ))\n",
    "print(\"Dentre {} individuos.\".format( qtde_obs ))\n",
    "\n",
    "print(\"Logo, nossa acurácia é igual a: {} / {} = {}\".format( qtde_acertos, qtde_obs, qtde_acertos / qtde_obs ) )\n",
    "\n",
    "from sklearn import metrics\n",
    "acc_sklearn = metrics.accuracy_score( result['y_true'], result['predict']  )\n",
    "\n",
    "print(\"Acurácia calculada pelo sklearn:\", acc_sklearn)"
   ]
  },
  {
   "cell_type": "code",
   "execution_count": 133,
   "metadata": {},
   "outputs": [
    {
     "name": "stdout",
     "output_type": "stream",
     "text": [
      "Acurácia para random forest treino: 0.7284682826199071\n",
      " Acurácia para Arvore de decisao treino: 0.926766374419804\n"
     ]
    }
   ],
   "source": [
    "print(\" Acurácia para random forest treino:\", metrics.accuracy_score(  y_train , clf_rf.predict(X_train) ) )\n",
    "print(\" Acurácia para Arvore de decisao treino:\", metrics.accuracy_score(  y_train , clf.predict(X_train) ) )"
   ]
  },
  {
   "cell_type": "code",
   "execution_count": 134,
   "metadata": {},
   "outputs": [
    {
     "name": "stdout",
     "output_type": "stream",
     "text": [
      "Acurácia para random forest treino: 0.568678012721334\n",
      " Acurácia para Arvore de decisao treino: 0.4626095925734915\n"
     ]
    }
   ],
   "source": [
    "print(\" Acurácia para random forest treino:\", metrics.accuracy_score(  y_test, clf_rf.predict(X_test) ) )\n",
    "print(\" Acurácia para Arvore de decisao treino:\", metrics.accuracy_score(  y_test , clf.predict(X_test) ) )"
   ]
  }
 ],
 "metadata": {
  "file_extension": ".py",
  "kernelspec": {
   "display_name": "Python 3",
   "language": "python",
   "name": "python3"
  },
  "language_info": {
   "codemirror_mode": {
    "name": "ipython",
    "version": 3
   },
   "file_extension": ".py",
   "mimetype": "text/x-python",
   "name": "python",
   "nbconvert_exporter": "python",
   "pygments_lexer": "ipython3",
   "version": "3.7.3"
  },
  "mimetype": "text/x-python",
  "name": "python",
  "npconvert_exporter": "python",
  "pygments_lexer": "ipython3",
  "version": 3
 },
 "nbformat": 4,
 "nbformat_minor": 2
}
